{
  "nbformat": 4,
  "nbformat_minor": 0,
  "metadata": {
    "colab": {
      "name": "LV Segmentation.ipynb",
      "provenance": [],
      "collapsed_sections": [
        "i7-YLA6497OI"
      ],
      "machine_shape": "hm",
      "mount_file_id": "1rZrLBQByqZESqmHBrpfRQbAWKAUdJZaN",
      "authorship_tag": "ABX9TyMgGWLF/POBCi/ioE/1eDRF",
      "include_colab_link": true
    },
    "kernelspec": {
      "name": "python3",
      "display_name": "Python 3"
    },
    "language_info": {
      "name": "python"
    },
    "accelerator": "GPU",
    "gpuClass": "standard"
  },
  "cells": [
    {
      "cell_type": "markdown",
      "metadata": {
        "id": "view-in-github",
        "colab_type": "text"
      },
      "source": [
        "<a href=\"https://colab.research.google.com/github/ajithpious/Colab-Notebooks/blob/main/LV_Segmentation.ipynb\" target=\"_parent\"><img src=\"https://colab.research.google.com/assets/colab-badge.svg\" alt=\"Open In Colab\"/></a>"
      ]
    },
    {
      "cell_type": "markdown",
      "source": [
        "#Loading Libraries"
      ],
      "metadata": {
        "id": "dFrzhLOWGaBx"
      }
    },
    {
      "cell_type": "code",
      "execution_count": 1,
      "metadata": {
        "id": "QJaRBEFfu706"
      },
      "outputs": [],
      "source": [
        "import tensorflow as tf"
      ]
    },
    {
      "cell_type": "code",
      "source": [
        "import numpy as np\n",
        "import matplotlib.pyplot as plt"
      ],
      "metadata": {
        "id": "EC2KPPwkv3sR"
      },
      "execution_count": 2,
      "outputs": []
    },
    {
      "cell_type": "code",
      "source": [
        "!cp /content/drive/MyDrive/MscProj/Code/net.py /content/"
      ],
      "metadata": {
        "id": "vyyzourMXAg-"
      },
      "execution_count": 3,
      "outputs": []
    },
    {
      "cell_type": "markdown",
      "source": [
        "#Data Preparation"
      ],
      "metadata": {
        "id": "-fbYZkwFwkCk"
      }
    },
    {
      "cell_type": "markdown",
      "source": [
        "## Loading from TFRecords"
      ],
      "metadata": {
        "id": "cUqAv9v1VvGj"
      }
    },
    {
      "cell_type": "code",
      "source": [
        "from tensorflow.python.ops.math_ops import reduce_min\n",
        "from tensorflow.python.ops.ragged.ragged_math_ops import reduce_max\n",
        "\n",
        "# fig,ax=plt.subplots(nrows=1,ncols=2)\n",
        "rawdataset=tf.data.TFRecordDataset(\"/content/drive/MyDrive/Data/MscProj/Data/tfRecord/data.tfrecords\")\n",
        "# print(rawdataset)\n",
        "featureDescription={\"image\":tf.io.FixedLenFeature([],tf.string,default_value=''),\"mask\":tf.io.FixedLenFeature([],tf.string,default_value='')}\n",
        "def scale(tensor):\n",
        "  # tensor = tf.div(tf.subtract(tensor, tf.reduce_min(tensor)), \n",
        "  #  tf.subtract(tf.reduce_max(tensor),tf.reduce_min(tensor)))\n",
        "  tensor=(tensor-tf.reduce_min(tensor))/(tf.reduce_max(tensor)-tf.reduce_min(tensor))\n",
        "  return tensor\n",
        "def _parse_function(example_proto):\n",
        "  features=tf.io.parse_single_example(example_proto, featureDescription)\n",
        "  image=tf.io.decode_raw(features['image'],tf.int32)\n",
        "  mask=tf.io.decode_raw(features['mask'],tf.uint8)\n",
        "  mask=tf.cast(mask,tf.float32)\n",
        "  image=tf.cast(image,tf.float32)\n",
        "  print(mask)\n",
        "  image=tf.reshape(image,(256,256,1))\n",
        "  mask=tf.reshape(mask,(256,256,1))\n",
        "  image=scale(image)\n",
        "  mask=scale(mask)\n",
        "  return image,mask\n",
        "parsed_dataset=rawdataset.map(_parse_function).shuffle(100)\n",
        "# map(_parse_image)\n"
      ],
      "metadata": {
        "colab": {
          "base_uri": "https://localhost:8080/"
        },
        "id": "BFjlHvmuvIM1",
        "outputId": "03b01b5c-d75f-4f76-8617-67c0ca7086b8"
      },
      "execution_count": 4,
      "outputs": [
        {
          "output_type": "stream",
          "name": "stdout",
          "text": [
            "Tensor(\"Cast:0\", shape=(None,), dtype=float32)\n"
          ]
        }
      ]
    },
    {
      "cell_type": "code",
      "source": [
        "#Spliting the dataset\n",
        "l=0\n",
        "for i in parsed_dataset:\n",
        "  l=l+1\n",
        "trainSize=int(0.7*l)\n",
        "valSize=int(0.15*l)\n",
        "testSize=int(0.15*l)\n",
        "train_dataset=parsed_dataset.take(trainSize)\n",
        "test_dataset=parsed_dataset.skip(trainSize)\n",
        "val_dataset=test_dataset.take(valSize)\n",
        "test_dataset=test_dataset.skip(testSize)"
      ],
      "metadata": {
        "id": "VIEFlRG6wGbD"
      },
      "execution_count": 5,
      "outputs": []
    },
    {
      "cell_type": "code",
      "source": [
        "#Creating batches \n",
        "train_batches = (\n",
        "    train_dataset\n",
        "    .cache()\n",
        "    .shuffle(1000)\n",
        "    .batch(64)\n",
        "    .prefetch(buffer_size=tf.data.AUTOTUNE))\n",
        "val_batches=(val_dataset.shuffle(1000).batch(64))"
      ],
      "metadata": {
        "id": "ITNQVXmMCVaZ"
      },
      "execution_count": 6,
      "outputs": []
    },
    {
      "cell_type": "code",
      "source": [
        "# tf.constant(list(train_dataset.as_numpy_iterator())[7])"
      ],
      "metadata": {
        "id": "3RBIKbLg3R02"
      },
      "execution_count": null,
      "outputs": []
    },
    {
      "cell_type": "markdown",
      "source": [
        "#U-Net Model"
      ],
      "metadata": {
        "id": "i7-YLA6497OI"
      }
    },
    {
      "cell_type": "code",
      "source": [
        "from __future__ import print_function\n",
        "import tensorflow as tf\n",
        "from tensorflow.keras import backend as K\n",
        "from tensorflow.keras.layers import Activation\n",
        "from tensorflow.keras.layers import BatchNormalization\n",
        "from tensorflow.keras.layers import Conv2D\n",
        "from tensorflow.keras.layers import Conv2DTranspose\n",
        "from tensorflow.keras.layers import Input\n",
        "from tensorflow.keras.layers import MaxPooling2D\n",
        "from tensorflow.keras.layers import concatenate\n",
        "from tensorflow.keras.models import Model\n",
        "import numpy as np\n",
        "\n",
        "# from data import channels\n",
        "# from data import image_cols\n",
        "# from data import image_rows\n",
        "# from data import modalities\n",
        "\n",
        "batch_norm = True\n",
        "smooth = 1.0\n",
        "image_rows=256\n",
        "image_cols=256 \n",
        "channels=1\n",
        "modalities=3\n",
        "\n",
        "def iou(y_true, y_pred):\n",
        "    def f(y_true, y_pred):\n",
        "        intersection = (y_true * y_pred).sum()\n",
        "        union = y_true.sum() + y_pred.sum() - intersection\n",
        "        x = (intersection + 1e-15) / (union + 1e-15)\n",
        "        x = x.astype(np.float32)\n",
        "        return x\n",
        "    return tf.numpy_function(f, [y_true, y_pred], tf.float32)\n",
        "\n",
        "\n",
        "def dice_coef(y_true, y_pred):\n",
        "    y_true_f = K.flatten(y_true)\n",
        "    y_pred_f = K.flatten(y_pred)\n",
        "    intersection = K.sum(y_true_f * y_pred_f)\n",
        "    return (2. * intersection + smooth) / (K.sum(y_true_f) + K.sum(y_pred_f) + smooth)\n",
        "\n",
        "\n",
        "def dice_coef_loss(y_true, y_pred):\n",
        "    return 1-dice_coef(y_true, y_pred)\n",
        "\n",
        "\n",
        "def unet():\n",
        "    inputs = Input((image_rows, image_cols, channels * modalities))\n",
        "\n",
        "    conv1 = Conv2D(32, (3, 3), padding='same',data_format=\"channels_last\")(inputs)\n",
        "    if batch_norm:\n",
        "        conv1 = BatchNormalization(axis=3)(conv1)\n",
        "    conv1 = Activation('relu')(conv1)\n",
        "\n",
        "    conv1 = Conv2D(32, (3, 3), padding='same',data_format=\"channels_last\")(conv1)\n",
        "    if batch_norm:\n",
        "        conv1 = BatchNormalization(axis=3)(conv1)\n",
        "    conv1 = Activation('relu')(conv1)\n",
        "\n",
        "    pool1 = MaxPooling2D(pool_size=(2, 2), padding='same',data_format=\"channels_last\")(conv1)\n",
        "\n",
        "    conv2 = Conv2D(64, (3, 3), padding='same',data_format=\"channels_last\")(pool1)\n",
        "    if batch_norm:\n",
        "        conv2 = BatchNormalization(axis=3)(conv2)\n",
        "    conv2 = Activation('relu')(conv2)\n",
        "\n",
        "    conv2 = Conv2D(64, (3, 3), padding='same',data_format=\"channels_last\")(conv2)\n",
        "    if batch_norm:\n",
        "        conv2 = BatchNormalization(axis=3)(conv2)\n",
        "    conv2 = Activation('relu')(conv2)\n",
        "\n",
        "    pool2 = MaxPooling2D(pool_size=(2, 2), padding='same',data_format=\"channels_last\")(conv2)\n",
        "\n",
        "    conv3 = Conv2D(128, (3, 3), padding='same',data_format=\"channels_last\")(pool2)\n",
        "    if batch_norm:\n",
        "        conv3 = BatchNormalization(axis=3)(conv3)\n",
        "    conv3 = Activation('relu')(conv3)\n",
        "\n",
        "    conv3 = Conv2D(128, (3, 3), padding='same',data_format=\"channels_last\")(conv3)\n",
        "    if batch_norm:\n",
        "        conv3 = BatchNormalization(axis=3)(conv3)\n",
        "    conv3 = Activation('relu')(conv3)\n",
        "\n",
        "    pool3 = MaxPooling2D(pool_size=(2, 2), padding='same',data_format=\"channels_last\")(conv3)\n",
        "\n",
        "    conv4 = Conv2D(256, (3, 3), padding='same',data_format=\"channels_last\")(pool3)\n",
        "    if batch_norm:\n",
        "        conv4 = BatchNormalization(axis=3)(conv4)\n",
        "    conv4 = Activation('relu')(conv4)\n",
        "\n",
        "    conv4 = Conv2D(256, (3, 3), padding='same',data_format=\"channels_last\")(conv4)\n",
        "    if batch_norm:\n",
        "        conv4 = BatchNormalization(axis=3)(conv4)\n",
        "    conv4 = Activation('relu')(conv4)\n",
        "\n",
        "    pool4 = MaxPooling2D(pool_size=(2, 2), padding='same',data_format=\"channels_last\")(conv4)\n",
        "\n",
        "    conv5 = Conv2D(512, (3, 3), padding='same',data_format=\"channels_last\")(pool4)\n",
        "    if batch_norm:\n",
        "        conv5 = BatchNormalization(axis=3)(conv5)\n",
        "    conv5 = Activation('relu')(conv5)\n",
        "\n",
        "    conv5 = Conv2D(512, (3, 3), padding='same',data_format=\"channels_last\")(conv5)\n",
        "    if batch_norm: \n",
        "        conv5 = BatchNormalization(axis=3)(conv5)\n",
        "    conv5 = Activation('relu')(conv5)\n",
        "\n",
        "    up6 = Conv2DTranspose(256, (2, 2), strides=(2, 2), padding='same')(conv5)\n",
        "    up6 = concatenate([up6, conv4], axis=3)\n",
        "\n",
        "    conv6 = Conv2D(256, (3, 3), padding='same')(up6)\n",
        "    if batch_norm:\n",
        "        conv6 = BatchNormalization(axis=3)(conv6)\n",
        "    conv6 = Activation('relu')(conv6)\n",
        "\n",
        "    conv6 = Conv2D(256, (3, 3), padding='same')(conv6)\n",
        "    if batch_norm:\n",
        "        conv6 = BatchNormalization(axis=3)(conv6)\n",
        "    conv6 = Activation('relu')(conv6)\n",
        "\n",
        "    up7 = Conv2DTranspose(128, (2, 2), strides=(2, 2), padding='same')(conv6)\n",
        "    up7 = concatenate([up7, conv3], axis=3)\n",
        "\n",
        "    conv7 = Conv2D(128, (3, 3), padding='same')(up7)\n",
        "    if batch_norm:\n",
        "        conv7 = BatchNormalization(axis=3)(conv7)\n",
        "    conv7 = Activation('relu')(conv7)\n",
        "\n",
        "    conv7 = Conv2D(128, (3, 3), activation='relu', padding='same')(conv7)\n",
        "    if batch_norm:\n",
        "        conv7 = BatchNormalization(axis=3)(conv7)\n",
        "    conv7 = Activation('relu')(conv7)\n",
        "\n",
        "    up8 = Conv2DTranspose(64, (2, 2), strides=(2, 2), padding='same')(conv7)\n",
        "    up8 = concatenate([up8, conv2], axis=3)\n",
        "\n",
        "    conv8 = Conv2D(64, (3, 3), padding='same')(up8)\n",
        "    if batch_norm:\n",
        "        conv8 = BatchNormalization(axis=3)(conv8)\n",
        "    conv8 = Activation('relu')(conv8)\n",
        "\n",
        "    conv8 = Conv2D(64, (3, 3), padding='same')(conv8)\n",
        "    if batch_norm:\n",
        "        conv8 = BatchNormalization(axis=3)(conv8)\n",
        "    conv8 = Activation('relu')(conv8)\n",
        "\n",
        "    up9 = Conv2DTranspose(32, (2, 2), strides=(2, 2), padding='same')(conv8)\n",
        "    up9 = concatenate([up9, conv1], axis=3)\n",
        "\n",
        "    conv9 = Conv2D(32, (3, 3), padding='same')(up9)\n",
        "    if batch_norm:\n",
        "        conv9 = BatchNormalization(axis=3)(conv9)\n",
        "    conv9 = Activation('relu')(conv9)\n",
        "\n",
        "    conv9 = Conv2D(32, (3, 3), padding='same')(conv9)\n",
        "    if batch_norm:\n",
        "        conv9 = BatchNormalization(axis=3)(conv9)\n",
        "    conv9 = Activation('relu')(conv9)\n",
        "\n",
        "    conv10 = Conv2D(1, (1, 1), activation='sigmoid')(conv9)\n",
        "\n",
        "    model = Model(inputs=[inputs], outputs=[conv10])\n",
        "\n",
        "    return model"
      ],
      "metadata": {
        "id": "DnwMksxI-Be9"
      },
      "execution_count": 7,
      "outputs": []
    },
    {
      "cell_type": "markdown",
      "source": [
        "#Transfer Learning"
      ],
      "metadata": {
        "id": "UPh-EHm-Xu7y"
      }
    },
    {
      "cell_type": "code",
      "source": [
        "# from importlib import reload  # Python 3.4+\n",
        "# import net\n",
        "# reload(net)"
      ],
      "metadata": {
        "colab": {
          "base_uri": "https://localhost:8080/"
        },
        "id": "I_SBj4BJc_va",
        "outputId": "5e1fb107-6c12-457c-fc80-8df5c80907af"
      },
      "execution_count": null,
      "outputs": [
        {
          "output_type": "execute_result",
          "data": {
            "text/plain": [
              "<module 'net' from '/content/net.py'>"
            ]
          },
          "metadata": {},
          "execution_count": 28
        }
      ]
    },
    {
      "cell_type": "code",
      "source": [
        "from tensorflow.keras.models import  Model\n",
        "# from net import unet,dice_coef_loss,dice_coef,iou\n",
        "import numpy as np\n",
        "from tensorflow.keras.callbacks import ModelCheckpoint, CSVLogger, ReduceLROnPlateau, EarlyStopping, TensorBoard\n",
        "from tensorflow.keras.optimizers import Adam\n",
        "from tensorflow.keras.metrics import Recall, Precision"
      ],
      "metadata": {
        "id": "Ea5TuPpTYarl"
      },
      "execution_count": 8,
      "outputs": []
    },
    {
      "cell_type": "code",
      "source": [
        "model=unet()\n",
        "# model.load_weights(\"/content/drive/MyDrive/MscProj/models/unet/weights_64.h5\")"
      ],
      "metadata": {
        "id": "rui7My-nXyXA"
      },
      "execution_count": 9,
      "outputs": []
    },
    {
      "cell_type": "code",
      "source": [
        "model.summary()"
      ],
      "metadata": {
        "id": "zKS9Gk_N5Xiw"
      },
      "execution_count": null,
      "outputs": []
    },
    {
      "cell_type": "code",
      "source": [
        "#get the old config\n",
        "old_config=model.get_config()\n",
        "\n",
        "h,w,c=256,256,1\n",
        "#update the old config\n",
        "old_config['layers'][0]['config']['batch_input_shape']=(None, h, w, c)\n",
        "\n",
        "model_up=Model.from_config(old_config)\n",
        "\n",
        "\n",
        "#update the weights\n",
        "def avg_weights(weights):\n",
        "    average_weights=np.mean(weights,axis=-2).reshape(weights[:,:,-1:,:].shape)\n",
        "    return average_weights\n",
        "new_config=model_up.get_config()\n",
        "new_config_layer_names=[new_config['layers'][x]['name'] for x in range(len(new_config['layers']))]\n",
        "first_conv_name=new_config_layer_names[1]\n",
        "for layer in model.layers:\n",
        "    if(layer.name in new_config_layer_names):\n",
        "        if(layer.get_weights()!=[]):\n",
        "            target_layer=model_up.get_layer(layer.name)\n",
        "            if (layer.name==first_conv_name):\n",
        "                weights=layer.get_weights()[0]\n",
        "                biases=layer.get_weights()[1]\n",
        "                weights_single=avg_weights(weights)\n",
        "                target_layer.set_weights([weights_single,biases])\n",
        "            else:\n",
        "                target_layer.set_weights(layer.get_weights())"
      ],
      "metadata": {
        "id": "gZbSVxjDX2tZ"
      },
      "execution_count": 11,
      "outputs": []
    },
    {
      "cell_type": "code",
      "source": [
        "# Metrics\n",
        "lr=0.001\n",
        "metrics = [dice_coef, iou, Recall(), Precision()]\n",
        "\n",
        "model_up.compile(loss=dice_coef_loss, optimizer=Adam(lr), metrics=metrics)"
      ],
      "metadata": {
        "id": "eaP7tFViYfap"
      },
      "execution_count": 12,
      "outputs": []
    },
    {
      "cell_type": "code",
      "source": [
        "# model_up.predict(list(train_dataset.as_numpy_iterator())[0])\n",
        "list(train_dataset.as_numpy_iterator())[1][0][1].shape\n",
        "model_up.predict(list(train_dataset.as_numpy_iterator())[1][0])[1]"
      ],
      "metadata": {
        "id": "Hd2123tFtlf_"
      },
      "execution_count": null,
      "outputs": []
    },
    {
      "cell_type": "code",
      "source": [
        "\n",
        "model_up.fit(\n",
        "        train_batches,\n",
        "        epochs=10,\n",
        "        validation_data=val_batches,\n",
        "        callbacks=[TensorBoard(\"./graphs\")],\n",
        "        shuffle=False\n",
        "    )"
      ],
      "metadata": {
        "colab": {
          "base_uri": "https://localhost:8080/"
        },
        "id": "PNicwjr9Y26r",
        "outputId": "53f2d2a1-223f-4083-e239-4fae4313119c"
      },
      "execution_count": 13,
      "outputs": [
        {
          "output_type": "stream",
          "name": "stdout",
          "text": [
            "Epoch 1/10\n",
            "9/9 [==============================] - 62s 4s/step - loss: 0.9167 - dice_coef: 0.0838 - iou: 0.0439 - recall: 0.8745 - precision: 0.0526 - val_loss: 0.9773 - val_dice_coef: 0.0227 - val_iou: 0.0115 - val_recall: 1.0000 - val_precision: 0.0110\n",
            "Epoch 2/10\n",
            "9/9 [==============================] - 13s 1s/step - loss: 0.8738 - dice_coef: 0.1269 - iou: 0.0679 - recall: 0.9341 - precision: 0.1116 - val_loss: 0.9761 - val_dice_coef: 0.0238 - val_iou: 0.0121 - val_recall: 0.3691 - val_precision: 0.0151\n",
            "Epoch 3/10\n",
            "9/9 [==============================] - 13s 1s/step - loss: 0.8241 - dice_coef: 0.1761 - iou: 0.0966 - recall: 0.9464 - precision: 0.3162 - val_loss: 0.9851 - val_dice_coef: 0.0148 - val_iou: 0.0075 - val_recall: 0.0000e+00 - val_precision: 0.0000e+00\n",
            "Epoch 4/10\n",
            "9/9 [==============================] - 13s 1s/step - loss: 0.7802 - dice_coef: 0.2208 - iou: 0.1243 - recall: 0.9558 - precision: 0.4965 - val_loss: 0.9765 - val_dice_coef: 0.0236 - val_iou: 0.0119 - val_recall: 0.9680 - val_precision: 0.0121\n",
            "Epoch 5/10\n",
            "9/9 [==============================] - 13s 1s/step - loss: 0.7327 - dice_coef: 0.2679 - iou: 0.1548 - recall: 0.9672 - precision: 0.6553 - val_loss: 0.9764 - val_dice_coef: 0.0238 - val_iou: 0.0120 - val_recall: 1.0000 - val_precision: 0.0116\n",
            "Epoch 6/10\n",
            "9/9 [==============================] - 13s 1s/step - loss: 0.6919 - dice_coef: 0.3088 - iou: 0.1828 - recall: 0.9782 - precision: 0.7360 - val_loss: 0.9751 - val_dice_coef: 0.0249 - val_iou: 0.0126 - val_recall: 1.0000 - val_precision: 0.0124\n",
            "Epoch 7/10\n",
            "9/9 [==============================] - 13s 1s/step - loss: 0.6525 - dice_coef: 0.3474 - iou: 0.2106 - recall: 0.9780 - precision: 0.7903 - val_loss: 0.9768 - val_dice_coef: 0.0234 - val_iou: 0.0118 - val_recall: 0.4637 - val_precision: 0.0129\n",
            "Epoch 8/10\n",
            "9/9 [==============================] - 14s 2s/step - loss: 0.6116 - dice_coef: 0.3895 - iou: 0.2421 - recall: 0.9782 - precision: 0.8086 - val_loss: 0.9777 - val_dice_coef: 0.0223 - val_iou: 0.0113 - val_recall: 0.0000e+00 - val_precision: 0.0000e+00\n",
            "Epoch 9/10\n",
            "9/9 [==============================] - 13s 1s/step - loss: 0.5681 - dice_coef: 0.4323 - iou: 0.2758 - recall: 0.9767 - precision: 0.8313 - val_loss: 0.9860 - val_dice_coef: 0.0140 - val_iou: 0.0070 - val_recall: 0.0000e+00 - val_precision: 0.0000e+00\n",
            "Epoch 10/10\n",
            "9/9 [==============================] - 13s 1s/step - loss: 0.5224 - dice_coef: 0.4781 - iou: 0.3144 - recall: 0.9748 - precision: 0.8515 - val_loss: 0.9756 - val_dice_coef: 0.0243 - val_iou: 0.0123 - val_recall: 0.3611 - val_precision: 0.0133\n"
          ]
        },
        {
          "output_type": "execute_result",
          "data": {
            "text/plain": [
              "<keras.callbacks.History at 0x7f03aa6f6d10>"
            ]
          },
          "metadata": {},
          "execution_count": 13
        }
      ]
    },
    {
      "cell_type": "code",
      "source": [
        "model_up.summary()"
      ],
      "metadata": {
        "id": "RXAVeU8CeajP",
        "colab": {
          "base_uri": "https://localhost:8080/"
        },
        "outputId": "f5aca9a7-4f30-4c86-9e50-18e3d512df55"
      },
      "execution_count": null,
      "outputs": [
        {
          "output_type": "stream",
          "name": "stdout",
          "text": [
            "Model: \"model_1\"\n",
            "__________________________________________________________________________________________________\n",
            " Layer (type)                   Output Shape         Param #     Connected to                     \n",
            "==================================================================================================\n",
            " input_2 (InputLayer)           [(None, 256, 256, 1  0           []                               \n",
            "                                )]                                                                \n",
            "                                                                                                  \n",
            " conv2d_19 (Conv2D)             (None, 256, 256, 32  320         ['input_2[0][0]']                \n",
            "                                )                                                                 \n",
            "                                                                                                  \n",
            " activation_18 (Activation)     (None, 256, 256, 32  0           ['conv2d_19[0][0]']              \n",
            "                                )                                                                 \n",
            "                                                                                                  \n",
            " conv2d_20 (Conv2D)             (None, 256, 256, 32  9248        ['activation_18[0][0]']          \n",
            "                                )                                                                 \n",
            "                                                                                                  \n",
            " activation_19 (Activation)     (None, 256, 256, 32  0           ['conv2d_20[0][0]']              \n",
            "                                )                                                                 \n",
            "                                                                                                  \n",
            " max_pooling2d_4 (MaxPooling2D)  (None, 128, 128, 32  0          ['activation_19[0][0]']          \n",
            "                                )                                                                 \n",
            "                                                                                                  \n",
            " conv2d_21 (Conv2D)             (None, 128, 128, 64  18496       ['max_pooling2d_4[0][0]']        \n",
            "                                )                                                                 \n",
            "                                                                                                  \n",
            " activation_20 (Activation)     (None, 128, 128, 64  0           ['conv2d_21[0][0]']              \n",
            "                                )                                                                 \n",
            "                                                                                                  \n",
            " conv2d_22 (Conv2D)             (None, 128, 128, 64  36928       ['activation_20[0][0]']          \n",
            "                                )                                                                 \n",
            "                                                                                                  \n",
            " activation_21 (Activation)     (None, 128, 128, 64  0           ['conv2d_22[0][0]']              \n",
            "                                )                                                                 \n",
            "                                                                                                  \n",
            " max_pooling2d_5 (MaxPooling2D)  (None, 64, 64, 64)  0           ['activation_21[0][0]']          \n",
            "                                                                                                  \n",
            " conv2d_23 (Conv2D)             (None, 64, 64, 128)  73856       ['max_pooling2d_5[0][0]']        \n",
            "                                                                                                  \n",
            " activation_22 (Activation)     (None, 64, 64, 128)  0           ['conv2d_23[0][0]']              \n",
            "                                                                                                  \n",
            " conv2d_24 (Conv2D)             (None, 64, 64, 128)  147584      ['activation_22[0][0]']          \n",
            "                                                                                                  \n",
            " activation_23 (Activation)     (None, 64, 64, 128)  0           ['conv2d_24[0][0]']              \n",
            "                                                                                                  \n",
            " max_pooling2d_6 (MaxPooling2D)  (None, 32, 32, 128)  0          ['activation_23[0][0]']          \n",
            "                                                                                                  \n",
            " conv2d_25 (Conv2D)             (None, 32, 32, 256)  295168      ['max_pooling2d_6[0][0]']        \n",
            "                                                                                                  \n",
            " activation_24 (Activation)     (None, 32, 32, 256)  0           ['conv2d_25[0][0]']              \n",
            "                                                                                                  \n",
            " conv2d_26 (Conv2D)             (None, 32, 32, 256)  590080      ['activation_24[0][0]']          \n",
            "                                                                                                  \n",
            " activation_25 (Activation)     (None, 32, 32, 256)  0           ['conv2d_26[0][0]']              \n",
            "                                                                                                  \n",
            " max_pooling2d_7 (MaxPooling2D)  (None, 16, 16, 256)  0          ['activation_25[0][0]']          \n",
            "                                                                                                  \n",
            " conv2d_27 (Conv2D)             (None, 16, 16, 512)  1180160     ['max_pooling2d_7[0][0]']        \n",
            "                                                                                                  \n",
            " activation_26 (Activation)     (None, 16, 16, 512)  0           ['conv2d_27[0][0]']              \n",
            "                                                                                                  \n",
            " conv2d_28 (Conv2D)             (None, 16, 16, 512)  2359808     ['activation_26[0][0]']          \n",
            "                                                                                                  \n",
            " activation_27 (Activation)     (None, 16, 16, 512)  0           ['conv2d_28[0][0]']              \n",
            "                                                                                                  \n",
            " conv2d_transpose_4 (Conv2DTran  (None, 32, 32, 256)  524544     ['activation_27[0][0]']          \n",
            " spose)                                                                                           \n",
            "                                                                                                  \n",
            " concatenate_4 (Concatenate)    (None, 32, 32, 512)  0           ['conv2d_transpose_4[0][0]',     \n",
            "                                                                  'activation_25[0][0]']          \n",
            "                                                                                                  \n",
            " conv2d_29 (Conv2D)             (None, 32, 32, 256)  1179904     ['concatenate_4[0][0]']          \n",
            "                                                                                                  \n",
            " activation_28 (Activation)     (None, 32, 32, 256)  0           ['conv2d_29[0][0]']              \n",
            "                                                                                                  \n",
            " conv2d_30 (Conv2D)             (None, 32, 32, 256)  590080      ['activation_28[0][0]']          \n",
            "                                                                                                  \n",
            " activation_29 (Activation)     (None, 32, 32, 256)  0           ['conv2d_30[0][0]']              \n",
            "                                                                                                  \n",
            " conv2d_transpose_5 (Conv2DTran  (None, 64, 64, 128)  131200     ['activation_29[0][0]']          \n",
            " spose)                                                                                           \n",
            "                                                                                                  \n",
            " concatenate_5 (Concatenate)    (None, 64, 64, 256)  0           ['conv2d_transpose_5[0][0]',     \n",
            "                                                                  'activation_23[0][0]']          \n",
            "                                                                                                  \n",
            " conv2d_31 (Conv2D)             (None, 64, 64, 128)  295040      ['concatenate_5[0][0]']          \n",
            "                                                                                                  \n",
            " activation_30 (Activation)     (None, 64, 64, 128)  0           ['conv2d_31[0][0]']              \n",
            "                                                                                                  \n",
            " conv2d_32 (Conv2D)             (None, 64, 64, 128)  147584      ['activation_30[0][0]']          \n",
            "                                                                                                  \n",
            " activation_31 (Activation)     (None, 64, 64, 128)  0           ['conv2d_32[0][0]']              \n",
            "                                                                                                  \n",
            " conv2d_transpose_6 (Conv2DTran  (None, 128, 128, 64  32832      ['activation_31[0][0]']          \n",
            " spose)                         )                                                                 \n",
            "                                                                                                  \n",
            " concatenate_6 (Concatenate)    (None, 128, 128, 12  0           ['conv2d_transpose_6[0][0]',     \n",
            "                                8)                                'activation_21[0][0]']          \n",
            "                                                                                                  \n",
            " conv2d_33 (Conv2D)             (None, 128, 128, 64  73792       ['concatenate_6[0][0]']          \n",
            "                                )                                                                 \n",
            "                                                                                                  \n",
            " activation_32 (Activation)     (None, 128, 128, 64  0           ['conv2d_33[0][0]']              \n",
            "                                )                                                                 \n",
            "                                                                                                  \n",
            " conv2d_34 (Conv2D)             (None, 128, 128, 64  36928       ['activation_32[0][0]']          \n",
            "                                )                                                                 \n",
            "                                                                                                  \n",
            " activation_33 (Activation)     (None, 128, 128, 64  0           ['conv2d_34[0][0]']              \n",
            "                                )                                                                 \n",
            "                                                                                                  \n",
            " conv2d_transpose_7 (Conv2DTran  (None, 256, 256, 32  8224       ['activation_33[0][0]']          \n",
            " spose)                         )                                                                 \n",
            "                                                                                                  \n",
            " concatenate_7 (Concatenate)    (None, 256, 256, 64  0           ['conv2d_transpose_7[0][0]',     \n",
            "                                )                                 'activation_19[0][0]']          \n",
            "                                                                                                  \n",
            " conv2d_35 (Conv2D)             (None, 256, 256, 32  18464       ['concatenate_7[0][0]']          \n",
            "                                )                                                                 \n",
            "                                                                                                  \n",
            " activation_34 (Activation)     (None, 256, 256, 32  0           ['conv2d_35[0][0]']              \n",
            "                                )                                                                 \n",
            "                                                                                                  \n",
            " conv2d_36 (Conv2D)             (None, 256, 256, 32  9248        ['activation_34[0][0]']          \n",
            "                                )                                                                 \n",
            "                                                                                                  \n",
            " activation_35 (Activation)     (None, 256, 256, 32  0           ['conv2d_36[0][0]']              \n",
            "                                )                                                                 \n",
            "                                                                                                  \n",
            " conv2d_37 (Conv2D)             (None, 256, 256, 1)  33          ['activation_35[0][0]']          \n",
            "                                                                                                  \n",
            "==================================================================================================\n",
            "Total params: 7,759,521\n",
            "Trainable params: 7,759,521\n",
            "Non-trainable params: 0\n",
            "__________________________________________________________________________________________________\n"
          ]
        }
      ]
    },
    {
      "cell_type": "code",
      "source": [
        "%load_ext tensorboard"
      ],
      "metadata": {
        "id": "WkFI-0l9rP6P"
      },
      "execution_count": null,
      "outputs": []
    },
    {
      "cell_type": "code",
      "source": [
        "%tensorboard --logdir \"/content/graphs/train\""
      ],
      "metadata": {
        "id": "5Nd5i2YVV8UJ"
      },
      "execution_count": null,
      "outputs": []
    },
    {
      "cell_type": "markdown",
      "source": [
        "##Model testing"
      ],
      "metadata": {
        "id": "yCMW2YcMe4Dy"
      }
    },
    {
      "cell_type": "code",
      "source": [
        ""
      ],
      "metadata": {
        "id": "c4wSLrI-WJc6"
      },
      "execution_count": null,
      "outputs": []
    }
  ]
}